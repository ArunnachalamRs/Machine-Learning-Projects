{
 "cells": [
  {
   "cell_type": "code",
   "execution_count": 6,
   "metadata": {},
   "outputs": [
    {
     "name": "stdout",
     "output_type": "stream",
     "text": [
      "Requirement already satisfied: opencv-python in c:\\users\\arunnachalam\\appdata\\local\\programs\\python\\python39\\lib\\site-packages (4.8.0.76)\n",
      "Requirement already satisfied: tensorflow in c:\\users\\arunnachalam\\appdata\\local\\programs\\python\\python39\\lib\\site-packages (2.15.0)\n",
      "Requirement already satisfied: keras in c:\\users\\arunnachalam\\appdata\\local\\programs\\python\\python39\\lib\\site-packages (2.15.0)\n",
      "Requirement already satisfied: mtcnn in c:\\users\\arunnachalam\\appdata\\local\\programs\\python\\python39\\lib\\site-packages (0.1.1)\n",
      "Requirement already satisfied: numpy in c:\\users\\arunnachalam\\appdata\\local\\programs\\python\\python39\\lib\\site-packages (1.23.5)\n",
      "Requirement already satisfied: tensorflow-intel==2.15.0; platform_system == \"Windows\" in c:\\users\\arunnachalam\\appdata\\local\\programs\\python\\python39\\lib\\site-packages (from tensorflow) (2.15.0)\n",
      "Requirement already satisfied: opt-einsum>=2.3.2 in c:\\users\\arunnachalam\\appdata\\local\\programs\\python\\python39\\lib\\site-packages (from tensorflow-intel==2.15.0; platform_system == \"Windows\"->tensorflow) (3.3.0)\n",
      "Requirement already satisfied: tensorboard<2.16,>=2.15 in c:\\users\\arunnachalam\\appdata\\local\\programs\\python\\python39\\lib\\site-packages (from tensorflow-intel==2.15.0; platform_system == \"Windows\"->tensorflow) (2.15.1)\n",
      "Requirement already satisfied: protobuf!=4.21.0,!=4.21.1,!=4.21.2,!=4.21.3,!=4.21.4,!=4.21.5,<5.0.0dev,>=3.20.3 in c:\\users\\arunnachalam\\appdata\\local\\programs\\python\\python39\\lib\\site-packages (from tensorflow-intel==2.15.0; platform_system == \"Windows\"->tensorflow) (4.23.4)\n",
      "Requirement already satisfied: gast!=0.5.0,!=0.5.1,!=0.5.2,>=0.2.1 in c:\\users\\arunnachalam\\appdata\\local\\programs\\python\\python39\\lib\\site-packages (from tensorflow-intel==2.15.0; platform_system == \"Windows\"->tensorflow) (0.5.4)\n",
      "Requirement already satisfied: typing-extensions>=3.6.6 in c:\\users\\arunnachalam\\appdata\\local\\programs\\python\\python39\\lib\\site-packages (from tensorflow-intel==2.15.0; platform_system == \"Windows\"->tensorflow) (4.9.0)\n",
      "Requirement already satisfied: flatbuffers>=23.5.26 in c:\\users\\arunnachalam\\appdata\\local\\programs\\python\\python39\\lib\\site-packages (from tensorflow-intel==2.15.0; platform_system == \"Windows\"->tensorflow) (23.5.26)\n",
      "Requirement already satisfied: astunparse>=1.6.0 in c:\\users\\arunnachalam\\appdata\\local\\programs\\python\\python39\\lib\\site-packages (from tensorflow-intel==2.15.0; platform_system == \"Windows\"->tensorflow) (1.6.3)\n",
      "Requirement already satisfied: tensorflow-io-gcs-filesystem>=0.23.1 in c:\\users\\arunnachalam\\appdata\\local\\programs\\python\\python39\\lib\\site-packages (from tensorflow-intel==2.15.0; platform_system == \"Windows\"->tensorflow) (0.31.0)\n",
      "Requirement already satisfied: google-pasta>=0.1.1 in c:\\users\\arunnachalam\\appdata\\local\\programs\\python\\python39\\lib\\site-packages (from tensorflow-intel==2.15.0; platform_system == \"Windows\"->tensorflow) (0.2.0)\n",
      "Requirement already satisfied: setuptools in c:\\users\\arunnachalam\\appdata\\local\\programs\\python\\python39\\lib\\site-packages (from tensorflow-intel==2.15.0; platform_system == \"Windows\"->tensorflow) (69.0.3)\n",
      "Requirement already satisfied: ml-dtypes~=0.2.0 in c:\\users\\arunnachalam\\appdata\\local\\programs\\python\\python39\\lib\\site-packages (from tensorflow-intel==2.15.0; platform_system == \"Windows\"->tensorflow) (0.2.0)\n",
      "Requirement already satisfied: six>=1.12.0 in c:\\users\\arunnachalam\\appdata\\local\\programs\\python\\python39\\lib\\site-packages (from tensorflow-intel==2.15.0; platform_system == \"Windows\"->tensorflow) (1.16.0)\n",
      "Requirement already satisfied: h5py>=2.9.0 in c:\\users\\arunnachalam\\appdata\\local\\programs\\python\\python39\\lib\\site-packages (from tensorflow-intel==2.15.0; platform_system == \"Windows\"->tensorflow) (3.10.0)\n",
      "Requirement already satisfied: wrapt<1.15,>=1.11.0 in c:\\users\\arunnachalam\\appdata\\local\\programs\\python\\python39\\lib\\site-packages (from tensorflow-intel==2.15.0; platform_system == \"Windows\"->tensorflow) (1.14.1)\n",
      "Requirement already satisfied: termcolor>=1.1.0 in c:\\users\\arunnachalam\\appdata\\local\\programs\\python\\python39\\lib\\site-packages (from tensorflow-intel==2.15.0; platform_system == \"Windows\"->tensorflow) (2.4.0)\n",
      "Requirement already satisfied: grpcio<2.0,>=1.24.3 in c:\\users\\arunnachalam\\appdata\\local\\programs\\python\\python39\\lib\\site-packages (from tensorflow-intel==2.15.0; platform_system == \"Windows\"->tensorflow) (1.60.0)\n",
      "Requirement already satisfied: packaging in c:\\users\\arunnachalam\\appdata\\local\\programs\\python\\python39\\lib\\site-packages (from tensorflow-intel==2.15.0; platform_system == \"Windows\"->tensorflow) (23.2)\n",
      "Requirement already satisfied: tensorflow-estimator<2.16,>=2.15.0 in c:\\users\\arunnachalam\\appdata\\local\\programs\\python\\python39\\lib\\site-packages (from tensorflow-intel==2.15.0; platform_system == \"Windows\"->tensorflow) (2.15.0)\n",
      "Requirement already satisfied: absl-py>=1.0.0 in c:\\users\\arunnachalam\\appdata\\local\\programs\\python\\python39\\lib\\site-packages (from tensorflow-intel==2.15.0; platform_system == \"Windows\"->tensorflow) (2.0.0)\n",
      "Requirement already satisfied: libclang>=13.0.0 in c:\\users\\arunnachalam\\appdata\\local\\programs\\python\\python39\\lib\\site-packages (from tensorflow-intel==2.15.0; platform_system == \"Windows\"->tensorflow) (16.0.6)\n",
      "Requirement already satisfied: tensorboard-data-server<0.8.0,>=0.7.0 in c:\\users\\arunnachalam\\appdata\\local\\programs\\python\\python39\\lib\\site-packages (from tensorboard<2.16,>=2.15->tensorflow-intel==2.15.0; platform_system == \"Windows\"->tensorflow) (0.7.2)\n",
      "Requirement already satisfied: requests<3,>=2.21.0 in c:\\users\\arunnachalam\\appdata\\local\\programs\\python\\python39\\lib\\site-packages (from tensorboard<2.16,>=2.15->tensorflow-intel==2.15.0; platform_system == \"Windows\"->tensorflow) (2.32.3)\n",
      "Requirement already satisfied: google-auth-oauthlib<2,>=0.5 in c:\\users\\arunnachalam\\appdata\\local\\programs\\python\\python39\\lib\\site-packages (from tensorboard<2.16,>=2.15->tensorflow-intel==2.15.0; platform_system == \"Windows\"->tensorflow) (1.1.0)\n",
      "Requirement already satisfied: google-auth<3,>=1.6.3 in c:\\users\\arunnachalam\\appdata\\local\\programs\\python\\python39\\lib\\site-packages (from tensorboard<2.16,>=2.15->tensorflow-intel==2.15.0; platform_system == \"Windows\"->tensorflow) (2.25.2)\n",
      "Requirement already satisfied: werkzeug>=1.0.1 in c:\\users\\arunnachalam\\appdata\\local\\programs\\python\\python39\\lib\\site-packages (from tensorboard<2.16,>=2.15->tensorflow-intel==2.15.0; platform_system == \"Windows\"->tensorflow) (2.3.8)\n",
      "Requirement already satisfied: markdown>=2.6.8 in c:\\users\\arunnachalam\\appdata\\local\\programs\\python\\python39\\lib\\site-packages (from tensorboard<2.16,>=2.15->tensorflow-intel==2.15.0; platform_system == \"Windows\"->tensorflow) (3.5.1)\n",
      "Requirement already satisfied: wheel<1.0,>=0.23.0 in c:\\users\\arunnachalam\\appdata\\local\\programs\\python\\python39\\lib\\site-packages (from astunparse>=1.6.0->tensorflow-intel==2.15.0; platform_system == \"Windows\"->tensorflow) (0.42.0)\n",
      "Requirement already satisfied: urllib3<3,>=1.21.1 in c:\\users\\arunnachalam\\appdata\\local\\programs\\python\\python39\\lib\\site-packages (from requests<3,>=2.21.0->tensorboard<2.16,>=2.15->tensorflow-intel==2.15.0; platform_system == \"Windows\"->tensorflow) (1.26.18)\n",
      "Requirement already satisfied: idna<4,>=2.5 in c:\\users\\arunnachalam\\appdata\\local\\programs\\python\\python39\\lib\\site-packages (from requests<3,>=2.21.0->tensorboard<2.16,>=2.15->tensorflow-intel==2.15.0; platform_system == \"Windows\"->tensorflow) (2.10)\n",
      "Requirement already satisfied: certifi>=2017.4.17 in c:\\users\\arunnachalam\\appdata\\local\\programs\\python\\python39\\lib\\site-packages (from requests<3,>=2.21.0->tensorboard<2.16,>=2.15->tensorflow-intel==2.15.0; platform_system == \"Windows\"->tensorflow) (2023.7.22)\n",
      "Requirement already satisfied: charset-normalizer<4,>=2 in c:\\users\\arunnachalam\\appdata\\local\\programs\\python\\python39\\lib\\site-packages (from requests<3,>=2.21.0->tensorboard<2.16,>=2.15->tensorflow-intel==2.15.0; platform_system == \"Windows\"->tensorflow) (2.0.12)\n",
      "Requirement already satisfied: requests-oauthlib>=0.7.0 in c:\\users\\arunnachalam\\appdata\\local\\programs\\python\\python39\\lib\\site-packages (from google-auth-oauthlib<2,>=0.5->tensorboard<2.16,>=2.15->tensorflow-intel==2.15.0; platform_system == \"Windows\"->tensorflow) (1.3.1)\n",
      "Requirement already satisfied: rsa<5,>=3.1.4 in c:\\users\\arunnachalam\\appdata\\local\\programs\\python\\python39\\lib\\site-packages (from google-auth<3,>=1.6.3->tensorboard<2.16,>=2.15->tensorflow-intel==2.15.0; platform_system == \"Windows\"->tensorflow) (4.7.2)\n",
      "Requirement already satisfied: cachetools<6.0,>=2.0.0 in c:\\users\\arunnachalam\\appdata\\local\\programs\\python\\python39\\lib\\site-packages (from google-auth<3,>=1.6.3->tensorboard<2.16,>=2.15->tensorflow-intel==2.15.0; platform_system == \"Windows\"->tensorflow) (5.3.2)\n",
      "Requirement already satisfied: pyasn1-modules>=0.2.1 in c:\\users\\arunnachalam\\appdata\\local\\programs\\python\\python39\\lib\\site-packages (from google-auth<3,>=1.6.3->tensorboard<2.16,>=2.15->tensorflow-intel==2.15.0; platform_system == \"Windows\"->tensorflow) (0.3.0)\n",
      "Requirement already satisfied: MarkupSafe>=2.1.1 in c:\\users\\arunnachalam\\appdata\\local\\programs\\python\\python39\\lib\\site-packages (from werkzeug>=1.0.1->tensorboard<2.16,>=2.15->tensorflow-intel==2.15.0; platform_system == \"Windows\"->tensorflow) (2.1.3)\n",
      "Requirement already satisfied: importlib-metadata>=4.4; python_version < \"3.10\" in c:\\users\\arunnachalam\\appdata\\local\\programs\\python\\python39\\lib\\site-packages (from markdown>=2.6.8->tensorboard<2.16,>=2.15->tensorflow-intel==2.15.0; platform_system == \"Windows\"->tensorflow) (7.0.0)\n",
      "Requirement already satisfied: oauthlib>=3.0.0 in c:\\users\\arunnachalam\\appdata\\local\\programs\\python\\python39\\lib\\site-packages (from requests-oauthlib>=0.7.0->google-auth-oauthlib<2,>=0.5->tensorboard<2.16,>=2.15->tensorflow-intel==2.15.0; platform_system == \"Windows\"->tensorflow) (3.2.2)\n",
      "Requirement already satisfied: pyasn1>=0.1.3 in c:\\users\\arunnachalam\\appdata\\local\\programs\\python\\python39\\lib\\site-packages (from rsa<5,>=3.1.4->google-auth<3,>=1.6.3->tensorboard<2.16,>=2.15->tensorflow-intel==2.15.0; platform_system == \"Windows\"->tensorflow) (0.5.1)\n",
      "Requirement already satisfied: zipp>=0.5 in c:\\users\\arunnachalam\\appdata\\local\\programs\\python\\python39\\lib\\site-packages (from importlib-metadata>=4.4; python_version < \"3.10\"->markdown>=2.6.8->tensorboard<2.16,>=2.15->tensorflow-intel==2.15.0; platform_system == \"Windows\"->tensorflow) (3.17.0)\n"
     ]
    },
    {
     "name": "stderr",
     "output_type": "stream",
     "text": [
      "WARNING: You are using pip version 20.2.3; however, version 24.3.1 is available.\n",
      "You should consider upgrading via the 'c:\\users\\arunnachalam\\appdata\\local\\programs\\python\\python39\\python.exe -m pip install --upgrade pip' command.\n"
     ]
    }
   ],
   "source": [
    "!pip install opencv-python tensorflow keras mtcnn numpy\n"
   ]
  },
  {
   "cell_type": "code",
   "execution_count": 7,
   "metadata": {},
   "outputs": [],
   "source": [
    "import numpy as np\n",
    "import cv2\n",
    "import os\n",
    "from tensorflow.keras.applications import ResNet50\n",
    "from tensorflow.keras.models import Model, load_model\n",
    "from tensorflow.keras.layers import Dense, GlobalAveragePooling2D, Input\n",
    "from tensorflow.keras.preprocessing.image import ImageDataGenerator\n",
    "from tensorflow.keras.optimizers import Adam\n",
    "from sklearn.model_selection import train_test_split\n",
    "from tensorflow.keras.utils import to_categorical"
   ]
  },
  {
   "cell_type": "code",
   "execution_count": 8,
   "metadata": {},
   "outputs": [],
   "source": [
    "def load_dataset(data_path):\n",
    "    images = []\n",
    "    labels = []\n",
    "    label_map = {}\n",
    "    label_counter = 0\n",
    "\n",
    "    for label_name in os.listdir(data_path):\n",
    "        label_dir = os.path.join(data_path, label_name)\n",
    "        if os.path.isdir(label_dir):\n",
    "            label_map[label_counter] = label_name\n",
    "            for image_name in os.listdir(label_dir):\n",
    "                img_path = os.path.join(label_dir, image_name)\n",
    "                img = cv2.imread(img_path)\n",
    "                img = cv2.resize(img, (224, 224))  # Resize for ResNet50\n",
    "                images.append(img)\n",
    "                labels.append(label_counter)\n",
    "            label_counter += 1\n",
    "\n",
    "    images = np.array(images, dtype='float32') / 255.0\n",
    "    labels = to_categorical(labels)\n",
    "    return images, labels, label_map"
   ]
  },
  {
   "cell_type": "code",
   "execution_count": 12,
   "metadata": {},
   "outputs": [],
   "source": [
    "def load_dataset(data_path):\n",
    "    images = []\n",
    "    labels = []\n",
    "    label_map = {}\n",
    "    label_counter = 0\n",
    "\n",
    "    for label_name in os.listdir(data_path):\n",
    "        label_dir = os.path.join(data_path, label_name)\n",
    "        if os.path.isdir(label_dir):\n",
    "            label_map[label_counter] = label_name\n",
    "            for image_name in os.listdir(label_dir):\n",
    "                img_path = os.path.join(label_dir, image_name)\n",
    "                img = cv2.imread(img_path)\n",
    "                \n",
    "                # Check if the image is read properly\n",
    "                if img is None:\n",
    "                    print(f\"Warning: Skipping unreadable image {img_path}\")\n",
    "                    continue\n",
    "                \n",
    "                img = cv2.resize(img, (224, 224))  # Resize for ResNet50\n",
    "                images.append(img)\n",
    "                labels.append(label_counter)\n",
    "            label_counter += 1\n",
    "\n",
    "    images = np.array(images, dtype='float32') / 255.0\n",
    "    labels = to_categorical(labels)\n",
    "    return images, labels, label_map\n"
   ]
  },
  {
   "cell_type": "code",
   "execution_count": 17,
   "metadata": {},
   "outputs": [],
   "source": [
    "def load_dataset(data_path):\n",
    "    images = []\n",
    "    labels = []\n",
    "    label_map = {}\n",
    "    label_counter = 0\n",
    "\n",
    "    for label_name in os.listdir(data_path):\n",
    "        label_dir = os.path.join(data_path, label_name)\n",
    "        if os.path.isdir(label_dir):\n",
    "            label_map[label_counter] = label_name\n",
    "            print(f\"Processing label: {label_name} ({label_counter})\")  # Debugging line\n",
    "            for image_name in os.listdir(label_dir):\n",
    "                img_path = os.path.join(label_dir, image_name)\n",
    "                img = cv2.imread(img_path)\n",
    "                \n",
    "                # Check if the image is read properly\n",
    "                if img is None:\n",
    "                    print(f\"Warning: Skipping unreadable image {img_path}\")\n",
    "                    continue\n",
    "                \n",
    "                # Resize the image for ResNet50\n",
    "                img = cv2.resize(img, (224, 224))\n",
    "                images.append(img)\n",
    "                labels.append(label_counter)\n",
    "\n",
    "            label_counter += 1\n",
    "\n",
    "    # Check if images list is empty\n",
    "    if len(images) == 0:\n",
    "        raise ValueError(\"No images found in the dataset. Please check the dataset directory.\")\n",
    "\n",
    "    images = np.array(images, dtype='float32') / 255.0\n",
    "    labels = to_categorical(labels)\n",
    "    \n",
    "    return images, labels, label_map\n"
   ]
  },
  {
   "cell_type": "code",
   "execution_count": 13,
   "metadata": {},
   "outputs": [],
   "source": [
    "def build_resnet50_model(input_shape, num_classes):\n",
    "    base_model = ResNet50(weights='imagenet', include_top=False, input_shape=input_shape)\n",
    "    base_model.trainable = False  # Freeze the base model\n",
    "\n",
    "    x = base_model.output\n",
    "    x = GlobalAveragePooling2D()(x)\n",
    "    x = Dense(1024, activation='relu')(x)\n",
    "    predictions = Dense(num_classes, activation='softmax')(x)\n",
    "\n",
    "    model = Model(inputs=base_model.input, outputs=predictions)\n",
    "    return model"
   ]
  },
  {
   "cell_type": "code",
   "execution_count": null,
   "metadata": {},
   "outputs": [],
   "source": []
  },
  {
   "cell_type": "code",
   "execution_count": null,
   "metadata": {},
   "outputs": [],
   "source": []
  },
  {
   "cell_type": "code",
   "execution_count": null,
   "metadata": {},
   "outputs": [],
   "source": [
    "data_path = 'C:/Users/Arunnachalam/Downloads/New folder (3)/faces'\n",
    "X, y, label_map = load_dataset(data_path)\n",
    "X_train, X_test, y_train, y_test = train_test_split(X, y, test_size=0.2, random_state=42)\n",
    "\n",
    "model = build_resnet50_model(input_shape=(224, 224, 3), num_classes=len(label_map))\n",
    "model.compile(optimizer=Adam(learning_rate=0.0001), loss='categorical_crossentropy', metrics=['accuracy'])\n",
    "\n",
    "# Data augmentation\n",
    "datagen = ImageDataGenerator(rotation_range=20, width_shift_range=0.2, height_shift_range=0.2, horizontal_flip=True)\n",
    "datagen.fit(X_train)\n",
    "\n",
    "history = model.fit(datagen.flow(X_train, y_train, batch_size=32), epochs=10, validation_split=0.1)"
   ]
  },
  {
   "cell_type": "code",
   "execution_count": 22,
   "metadata": {},
   "outputs": [],
   "source": [
    "from tensorflow.keras.preprocessing.image import ImageDataGenerator\n",
    "from sklearn.model_selection import train_test_split\n",
    "datagen_train = ImageDataGenerator(rotation_range=20, width_shift_range=0.2, height_shift_range=0.2, horizontal_flip=True)\n",
    "datagen_train.fit(X_train)\n",
    "\n",
    "datagen_val = ImageDataGenerator()  # No augmentation for validation\n",
    "datagen_val.fit(X_test)"
   ]
  },
  {
   "cell_type": "code",
   "execution_count": 23,
   "metadata": {},
   "outputs": [
    {
     "name": "stdout",
     "output_type": "stream",
     "text": [
      "Epoch 1/10\n",
      "WARNING:tensorflow:From c:\\Users\\Arunnachalam\\AppData\\Local\\Programs\\Python\\Python39\\lib\\site-packages\\keras\\src\\utils\\tf_utils.py:492: The name tf.ragged.RaggedTensorValue is deprecated. Please use tf.compat.v1.ragged.RaggedTensorValue instead.\n",
      "\n",
      "WARNING:tensorflow:From c:\\Users\\Arunnachalam\\AppData\\Local\\Programs\\Python\\Python39\\lib\\site-packages\\keras\\src\\engine\\base_layer_utils.py:384: The name tf.executing_eagerly_outside_functions is deprecated. Please use tf.compat.v1.executing_eagerly_outside_functions instead.\n",
      "\n",
      "3/3 [==============================] - 28s 6s/step - loss: 0.7269 - accuracy: 0.4000 - val_loss: 0.5766 - val_accuracy: 0.8333\n",
      "Epoch 2/10\n",
      "3/3 [==============================] - 7s 2s/step - loss: 0.6930 - accuracy: 0.6000 - val_loss: 0.4750 - val_accuracy: 0.8333\n",
      "Epoch 3/10\n",
      "3/3 [==============================] - 7s 3s/step - loss: 0.7476 - accuracy: 0.6000 - val_loss: 0.4694 - val_accuracy: 0.8333\n",
      "Epoch 4/10\n",
      "3/3 [==============================] - 7s 2s/step - loss: 0.6904 - accuracy: 0.6000 - val_loss: 0.5557 - val_accuracy: 0.8333\n",
      "Epoch 5/10\n",
      "3/3 [==============================] - 7s 3s/step - loss: 0.6799 - accuracy: 0.6000 - val_loss: 0.6952 - val_accuracy: 0.3333\n",
      "Epoch 6/10\n",
      "3/3 [==============================] - 7s 3s/step - loss: 0.7065 - accuracy: 0.5000 - val_loss: 0.6914 - val_accuracy: 0.3333\n",
      "Epoch 7/10\n",
      "3/3 [==============================] - 7s 2s/step - loss: 0.7041 - accuracy: 0.4500 - val_loss: 0.6357 - val_accuracy: 0.8333\n",
      "Epoch 8/10\n",
      "3/3 [==============================] - 7s 3s/step - loss: 0.6707 - accuracy: 0.6000 - val_loss: 0.5708 - val_accuracy: 0.8333\n",
      "Epoch 9/10\n",
      "3/3 [==============================] - 7s 2s/step - loss: 0.6572 - accuracy: 0.6000 - val_loss: 0.5318 - val_accuracy: 0.8333\n",
      "Epoch 10/10\n",
      "3/3 [==============================] - 7s 2s/step - loss: 0.6530 - accuracy: 0.6000 - val_loss: 0.5208 - val_accuracy: 0.8333\n"
     ]
    }
   ],
   "source": [
    "model = build_resnet50_model(input_shape=(224, 224, 3), num_classes=len(label_map))\n",
    "model.compile(optimizer=Adam(learning_rate=0.0001), loss='categorical_crossentropy', metrics=['accuracy'])\n",
    "\n",
    "history = model.fit(\n",
    "    datagen_train.flow(X_train, y_train, batch_size=8),\n",
    "    epochs=10,\n",
    "    validation_data=datagen_val.flow(X_test, y_test, batch_size=8)\n",
    "    )"
   ]
  },
  {
   "cell_type": "code",
   "execution_count": 25,
   "metadata": {},
   "outputs": [
    {
     "name": "stdout",
     "output_type": "stream",
     "text": [
      "1/1 [==============================] - 2s 2s/step - loss: 0.5208 - accuracy: 0.8333\n",
      "Validation Accuracy: 0.83\n"
     ]
    }
   ],
   "source": [
    "# Step 5: Evaluate the model\n",
    "test_loss, test_acc = model.evaluate(X_test, y_test)\n",
    "print(f\"Validation Accuracy: {test_acc:.2f}\")"
   ]
  },
  {
   "cell_type": "code",
   "execution_count": 26,
   "metadata": {},
   "outputs": [
    {
     "name": "stderr",
     "output_type": "stream",
     "text": [
      "c:\\Users\\Arunnachalam\\AppData\\Local\\Programs\\Python\\Python39\\lib\\site-packages\\keras\\src\\engine\\training.py:3103: UserWarning: You are saving your model as an HDF5 file via `model.save()`. This file format is considered legacy. We recommend using instead the native Keras format, e.g. `model.save('my_model.keras')`.\n",
      "  saving_api.save_model(\n"
     ]
    }
   ],
   "source": [
    "model.save('face_recognition_resnet50.h5')"
   ]
  },
  {
   "cell_type": "code",
   "execution_count": 28,
   "metadata": {},
   "outputs": [
    {
     "name": "stdout",
     "output_type": "stream",
     "text": [
      "1/1 [==============================] - 5s 5s/step\n",
      "Predicted label: Bill_Gates\n"
     ]
    }
   ],
   "source": [
    "def recognize_face(model, image_path, label_map):\n",
    "    img = cv2.imread(image_path)\n",
    "    img = cv2.resize(img, (224, 224))\n",
    "    img = np.expand_dims(img, axis=0) / 255.0\n",
    "    prediction = model.predict(img)\n",
    "    label = np.argmax(prediction)\n",
    "    print(f\"Predicted label: {label_map[label]}\")\n",
    "recognize_face(load_model('face_recognition_resnet50.h5'), 'C:/Users/Arunnachalam/Downloads/New folder (3)/faces/Bill_Gates/Bill_Gates_0001.jpg', label_map)\n"
   ]
  },
  {
   "cell_type": "code",
   "execution_count": 30,
   "metadata": {},
   "outputs": [
    {
     "name": "stdout",
     "output_type": "stream",
     "text": [
      "Processing label: Bill_Gates (0)\n",
      "Processing label: Bill_Graham (1)\n",
      "1/1 [==============================] - 26s 26s/step - loss: 0.7129 - accuracy: 0.6000 - val_loss: 0.5869 - val_accuracy: 0.8333\n",
      "1/1 [==============================] - 1s 1s/step - loss: 0.5869 - accuracy: 0.8333\n",
      "Validation Accuracy: 0.83\n"
     ]
    },
    {
     "name": "stderr",
     "output_type": "stream",
     "text": [
      "c:\\Users\\Arunnachalam\\AppData\\Local\\Programs\\Python\\Python39\\lib\\site-packages\\keras\\src\\engine\\training.py:3103: UserWarning: You are saving your model as an HDF5 file via `model.save()`. This file format is considered legacy. We recommend using instead the native Keras format, e.g. `model.save('my_model.keras')`.\n",
      "  saving_api.save_model(\n"
     ]
    },
    {
     "name": "stdout",
     "output_type": "stream",
     "text": [
      "1/1 [==============================] - 4s 4s/step\n",
      "Predicted label: Bill_Gates\n"
     ]
    }
   ],
   "source": [
    "import numpy as np\n",
    "import cv2\n",
    "import os\n",
    "from tensorflow.keras.applications import ResNet50\n",
    "from tensorflow.keras.models import Model, load_model\n",
    "from tensorflow.keras.layers import Dense, GlobalAveragePooling2D\n",
    "from tensorflow.keras.preprocessing.image import ImageDataGenerator\n",
    "from tensorflow.keras.optimizers import Adam\n",
    "from tensorflow.keras.utils import to_categorical\n",
    "from sklearn.model_selection import train_test_split\n",
    "\n",
    "# Step 1: Load and preprocess the dataset\n",
    "def load_dataset(data_path):\n",
    "    images = []\n",
    "    labels = []\n",
    "    label_map = {}\n",
    "    label_counter = 0\n",
    "\n",
    "    for label_name in os.listdir(data_path):\n",
    "        label_dir = os.path.join(data_path, label_name)\n",
    "        if os.path.isdir(label_dir):\n",
    "            label_map[label_counter] = label_name\n",
    "            print(f\"Processing label: {label_name} ({label_counter})\")  # Debugging line\n",
    "            for image_name in os.listdir(label_dir):\n",
    "                img_path = os.path.join(label_dir, image_name)\n",
    "                img = cv2.imread(img_path)\n",
    "                \n",
    "                # Check if the image is read properly\n",
    "                if img is None:\n",
    "                    print(f\"Warning: Skipping unreadable image {img_path}\")\n",
    "                    continue\n",
    "                \n",
    "                # Resize the image for ResNet50\n",
    "                img = cv2.resize(img, (224, 224))\n",
    "                images.append(img)\n",
    "                labels.append(label_counter)\n",
    "\n",
    "            label_counter += 1\n",
    "\n",
    "    # Check if images list is empty\n",
    "    if len(images) == 0:\n",
    "        raise ValueError(\"No images found in the dataset. Please check the dataset directory.\")\n",
    "\n",
    "    images = np.array(images, dtype='float32') / 255.0\n",
    "    labels = to_categorical(labels)\n",
    "    \n",
    "    return images, labels, label_map\n",
    "\n",
    "# Step 2: Build ResNet50 model\n",
    "def build_resnet50_model(input_shape, num_classes):\n",
    "    base_model = ResNet50(weights='imagenet', include_top=False, input_shape=input_shape)\n",
    "    base_model.trainable = False  # Freeze the base model\n",
    "\n",
    "    x = base_model.output\n",
    "    x = GlobalAveragePooling2D()(x)\n",
    "    x = Dense(1024, activation='relu')(x)\n",
    "    predictions = Dense(num_classes, activation='softmax')(x)\n",
    "\n",
    "    model = Model(inputs=base_model.input, outputs=predictions)\n",
    "    return model\n",
    "\n",
    "# Step 3: Train the model\n",
    "data_path = 'C:/Users/Arunnachalam/Downloads/New folder (3)/faces'  # Update this to your dataset directory\n",
    "X, y, label_map = load_dataset(data_path)\n",
    "\n",
    "# Split the data manually\n",
    "X_train, X_val, y_train, y_val = train_test_split(X, y, test_size=0.2, random_state=42)\n",
    "\n",
    "# Create the ImageDataGenerators\n",
    "datagen_train = ImageDataGenerator(rotation_range=20, width_shift_range=0.2, height_shift_range=0.2, horizontal_flip=True)\n",
    "datagen_train.fit(X_train)\n",
    "\n",
    "datagen_val = ImageDataGenerator()  # No augmentation for validation\n",
    "datagen_val.fit(X_val)\n",
    "\n",
    "# Create and compile the model\n",
    "model = build_resnet50_model(input_shape=(224, 224, 3), num_classes=len(label_map))\n",
    "model.compile(optimizer=Adam(learning_rate=0.0001), loss='categorical_crossentropy', metrics=['accuracy'])\n",
    "\n",
    "# Train the model\n",
    "history = model.fit(\n",
    "    datagen_train.flow(X_train, y_train, batch_size=32),\n",
    "    epochs=1,\n",
    "    validation_data=datagen_val.flow(X_val, y_val, batch_size=32)\n",
    ")\n",
    "\n",
    "# Step 4: Evaluate the model\n",
    "test_loss, test_acc = model.evaluate(X_val, y_val)\n",
    "print(f\"Validation Accuracy: {test_acc:.2f}\")\n",
    "\n",
    "# Step 5: Save the model\n",
    "model.save('face_recognition_resnet501.h5')\n",
    "\n",
    "# Step 6: Test on a single image (optional)\n",
    "def recognize_face(model, image_path, label_map):\n",
    "    img = cv2.imread(image_path)\n",
    "    img = cv2.resize(img, (224, 224))\n",
    "    img = np.expand_dims(img, axis=0) / 255.0\n",
    "    prediction = model.predict(img)\n",
    "    label = np.argmax(prediction)\n",
    "    print(f\"Predicted label: {label_map[label]}\")\n",
    "\n",
    "# Example usage\n",
    "recognize_face(load_model('face_recognition_resnet501.h5'), 'C:/Users/Arunnachalam/Downloads/New folder (3)/faces/Bill_Gates/Bill_Gates_0001.jpg', label_map)\n"
   ]
  }
 ],
 "metadata": {
  "kernelspec": {
   "display_name": "Python 3",
   "language": "python",
   "name": "python3"
  },
  "language_info": {
   "codemirror_mode": {
    "name": "ipython",
    "version": 3
   },
   "file_extension": ".py",
   "mimetype": "text/x-python",
   "name": "python",
   "nbconvert_exporter": "python",
   "pygments_lexer": "ipython3",
   "version": "3.9.2"
  }
 },
 "nbformat": 4,
 "nbformat_minor": 2
}
