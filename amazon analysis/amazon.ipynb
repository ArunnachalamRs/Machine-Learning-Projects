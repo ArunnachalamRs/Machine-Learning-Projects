{
 "cells": [
  {
   "cell_type": "code",
   "execution_count": 4,
   "metadata": {},
   "outputs": [
    {
     "name": "stdout",
     "output_type": "stream",
     "text": [
      "   Unnamed: 0                                      reviewerName  overall  \\\n",
      "0           0                                               NaN      4.0   \n",
      "1           1                                              0mie      5.0   \n",
      "2           2                                               1K3      4.0   \n",
      "3           3                                               1m2      5.0   \n",
      "4           4                                      2&amp;1/2Men      5.0   \n",
      "5           5                                           2Cents!      5.0   \n",
      "6           6                                        2K1Toaster      5.0   \n",
      "7           7  35-year Technology Consumer \"8-tracks to 802.11\"      5.0   \n",
      "8           8                                         4evryoung      5.0   \n",
      "9           9                                          53rdcard      5.0   \n",
      "\n",
      "                                          reviewText  reviewTime  day_diff  \\\n",
      "0                                         No issues.  2014-07-23       138   \n",
      "1  Purchased this for my device, it worked as adv...  2013-10-25       409   \n",
      "2  it works as expected. I should have sprung for...  2012-12-23       715   \n",
      "3  This think has worked out great.Had a diff. br...  2013-11-21       382   \n",
      "4  Bought it with Retail Packaging, arrived legit...  2013-07-13       513   \n",
      "5  It's mini storage.  It doesn't do anything els...  2013-04-29       588   \n",
      "6  I have it in my phone and it never skips a bea...  2013-10-19       415   \n",
      "7  It's hard to believe how affordable digital ha...  2014-10-07        62   \n",
      "8  Works in a HTC Rezound.  Was running short of ...  2014-03-24       259   \n",
      "9  in my galaxy s4, super fast card, and am total...  2013-11-10       393   \n",
      "\n",
      "   helpful_yes  helpful_no  total_vote  score_pos_neg_diff  \\\n",
      "0            0           0           0                   0   \n",
      "1            0           0           0                   0   \n",
      "2            0           0           0                   0   \n",
      "3            0           0           0                   0   \n",
      "4            0           0           0                   0   \n",
      "5            0           0           0                   0   \n",
      "6            0           0           0                   0   \n",
      "7            0           0           0                   0   \n",
      "8            1           0           1                   1   \n",
      "9            0           0           0                   0   \n",
      "\n",
      "   score_average_rating  wilson_lower_bound  \n",
      "0                   0.0            0.000000  \n",
      "1                   0.0            0.000000  \n",
      "2                   0.0            0.000000  \n",
      "3                   0.0            0.000000  \n",
      "4                   0.0            0.000000  \n",
      "5                   0.0            0.000000  \n",
      "6                   0.0            0.000000  \n",
      "7                   0.0            0.000000  \n",
      "8                   1.0            0.206549  \n",
      "9                   0.0            0.000000  \n"
     ]
    }
   ],
   "source": [
    "#Amazon Product Reviews Sentiment Analysis \n",
    "\n",
    "\n",
    "#import packages\n",
    "\n",
    "import pandas as pd\n",
    "\n",
    "from nltk.sentiment.vader import SentimentIntensityAnalyzer\n",
    "\n",
    "sentiments=SentimentIntensityAnalyzer()\n",
    "\n",
    "data=pd.read_csv(\"amazon_reviews.csv\")\n",
    "\n",
    "print(data.head(10))\n",
    "\n",
    "\n",
    "\n",
    "\n",
    "\n",
    "\n",
    "\n",
    "\n"
   ]
  },
  {
   "cell_type": "code",
   "execution_count": 3,
   "metadata": {},
   "outputs": [
    {
     "name": "stderr",
     "output_type": "stream",
     "text": [
      "[nltk_data] Downloading package vader_lexicon to\n",
      "[nltk_data]     C:\\Users\\Arunnachalam\\AppData\\Roaming\\nltk_data...\n"
     ]
    },
    {
     "data": {
      "text/plain": [
       "True"
      ]
     },
     "execution_count": 3,
     "metadata": {},
     "output_type": "execute_result"
    }
   ],
   "source": [
    "import nltk\n",
    "nltk.download('vader_lexicon')\n"
   ]
  },
  {
   "cell_type": "code",
   "execution_count": 7,
   "metadata": {},
   "outputs": [
    {
     "name": "stdout",
     "output_type": "stream",
     "text": [
      "        Unnamed: 0      overall     day_diff  helpful_yes   helpful_no  \\\n",
      "count  4913.000000  4913.000000  4913.000000  4913.000000  4913.000000   \n",
      "mean   2457.974761     4.587625   437.346224     1.311215     0.210258   \n",
      "std    1418.447891     0.996995   209.360537    41.627627     4.024098   \n",
      "min       1.000000     1.000000     1.000000     0.000000     0.000000   \n",
      "25%    1230.000000     5.000000   281.000000     0.000000     0.000000   \n",
      "50%    2458.000000     5.000000   431.000000     0.000000     0.000000   \n",
      "75%    3686.000000     5.000000   601.000000     0.000000     0.000000   \n",
      "max    4914.000000     5.000000  1064.000000  1952.000000   183.000000   \n",
      "\n",
      "        total_vote  score_pos_neg_diff  score_average_rating  \\\n",
      "count  4913.000000         4913.000000           4913.000000   \n",
      "mean      1.521474            1.100957              0.075363   \n",
      "std      44.132066           39.375960              0.255973   \n",
      "min       0.000000         -130.000000              0.000000   \n",
      "25%       0.000000            0.000000              0.000000   \n",
      "50%       0.000000            0.000000              0.000000   \n",
      "75%       0.000000            0.000000              0.000000   \n",
      "max    2020.000000         1884.000000              1.000000   \n",
      "\n",
      "       wilson_lower_bound  \n",
      "count         4913.000000  \n",
      "mean             0.020019  \n",
      "std              0.077156  \n",
      "min              0.000000  \n",
      "25%              0.000000  \n",
      "50%              0.000000  \n",
      "75%              0.000000  \n",
      "max              0.957544  \n"
     ]
    }
   ],
   "source": [
    "#ANALYSE THE DATASET\n",
    "\n",
    "#data=data.dropna()\n",
    "\n",
    "\n",
    "\n",
    "#print(data.isnull().sum())\n",
    "\n",
    "\n",
    "print(data.describe())\n",
    "\n"
   ]
  },
  {
   "cell_type": "code",
   "execution_count": 9,
   "metadata": {},
   "outputs": [
    {
     "name": "stdout",
     "output_type": "stream",
     "text": [
      "      Unnamed: 0 reviewerName  overall  \\\n",
      "4905        4905          zht      5.0   \n",
      "4906        4906   Zigcarruse      5.0   \n",
      "4907        4907         Zim5      5.0   \n",
      "4908        4908        Zimms      5.0   \n",
      "4909        4909         Zman      5.0   \n",
      "4910        4910       ZM \"J\"      1.0   \n",
      "4911        4911           Zo      5.0   \n",
      "4912        4912    Z S Liske      5.0   \n",
      "4913        4913     Z Taylor      5.0   \n",
      "4914        4914          Zza      5.0   \n",
      "\n",
      "                                             reviewText  reviewTime  day_diff  \\\n",
      "4905  So far so good. I use this with my mobil phone...  2012-12-28       710   \n",
      "4906  it worked just like you would expect a micro S...  2014-02-13       298   \n",
      "4907  MicroSD card works flawlessly with my digital ...  2014-06-06       185   \n",
      "4908  I really wanted a 128 GB card, but at less tha...  2014-12-05         3   \n",
      "4909  I bought this to stretch the capability of my ...  2014-01-29       313   \n",
      "4910  I bought this Sandisk 16GB Class 10 to use wit...  2013-07-23       503   \n",
      "4911  Used this for extending the capabilities of my...  2013-08-22       473   \n",
      "4912  Great card that is very fast and reliable. It ...  2014-03-31       252   \n",
      "4913  Good amount of space for the stuff I want to d...  2013-09-16       448   \n",
      "4914  I've heard bad things about this 64gb Micro SD...  2014-02-01       310   \n",
      "\n",
      "      helpful_yes  helpful_no  total_vote  score_pos_neg_diff  \\\n",
      "4905            0           0           0                   0   \n",
      "4906            0           0           0                   0   \n",
      "4907            0           0           0                   0   \n",
      "4908            0           0           0                   0   \n",
      "4909            0           0           0                   0   \n",
      "4910            0           0           0                   0   \n",
      "4911            0           0           0                   0   \n",
      "4912            0           0           0                   0   \n",
      "4913            0           0           0                   0   \n",
      "4914            0           0           0                   0   \n",
      "\n",
      "      score_average_rating  wilson_lower_bound  Positive  Negative  Neutral  \n",
      "4905                   0.0                 0.0     0.236     0.067    0.698  \n",
      "4906                   0.0                 0.0     0.115     0.101    0.783  \n",
      "4907                   0.0                 0.0     0.073     0.198    0.729  \n",
      "4908                   0.0                 0.0     0.220     0.000    0.780  \n",
      "4909                   0.0                 0.0     0.169     0.000    0.831  \n",
      "4910                   0.0                 0.0     0.092     0.091    0.817  \n",
      "4911                   0.0                 0.0     0.061     0.000    0.939  \n",
      "4912                   0.0                 0.0     0.172     0.000    0.828  \n",
      "4913                   0.0                 0.0     0.198     0.000    0.802  \n",
      "4914                   0.0                 0.0     0.258     0.049    0.693  \n"
     ]
    }
   ],
   "source": [
    "#SENTIMENT INTENSITY ANALYSER ALGORITHM\n",
    "\n",
    "sentiments=SentimentIntensityAnalyzer()\n",
    "\n",
    "data['Positive']=[sentiments.polarity_scores(i)[\"pos\"] for i in data[\"reviewText\"]]\n",
    "\n",
    "data['Negative']=[sentiments.polarity_scores(i)[\"neg\"] for i in data[\"reviewText\"]]\n",
    "\n",
    "data['Neutral']=[sentiments.polarity_scores(i) [\"neu\"] for i in data[\"reviewText\"]]\n",
    "\n",
    "print(data.tail(10))\n",
    "    \n",
    "\n",
    "\n",
    "                  \n",
    "\n"
   ]
  },
  {
   "cell_type": "code",
   "execution_count": 10,
   "metadata": {},
   "outputs": [
    {
     "name": "stdout",
     "output_type": "stream",
     "text": [
      "Positive: 765.5469999999979\n",
      "Negative: 219.70400000000006\n",
      "Neutral: 3927.775999999992\n"
     ]
    }
   ],
   "source": [
    "#ACCURACY OF POLARITY SCORES\n",
    "\n",
    "x=sum(data[\"Positive\"])\n",
    "y=sum(data[\"Negative\"])\n",
    "z=sum(data[\"Neutral\"])\n",
    "\n",
    "\n",
    "\n",
    "print(\"Positive:\",x)\n",
    "print(\"Negative:\",y)\n",
    "print(\"Neutral:\",z)\n"
   ]
  }
 ],
 "metadata": {
  "kernelspec": {
   "display_name": "Python 3",
   "language": "python",
   "name": "python3"
  },
  "language_info": {
   "codemirror_mode": {
    "name": "ipython",
    "version": 3
   },
   "file_extension": ".py",
   "mimetype": "text/x-python",
   "name": "python",
   "nbconvert_exporter": "python",
   "pygments_lexer": "ipython3",
   "version": "3.9.2"
  }
 },
 "nbformat": 4,
 "nbformat_minor": 2
}
